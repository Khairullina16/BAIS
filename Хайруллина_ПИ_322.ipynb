{
  "nbformat": 4,
  "nbformat_minor": 0,
  "metadata": {
    "colab": {
      "name": "Хайруллина_ПИ-322",
      "provenance": [],
      "collapsed_sections": []
    },
    "kernelspec": {
      "name": "python3",
      "display_name": "Python 3"
    },
    "language_info": {
      "name": "python"
    }
  },
  "cells": [
    {
      "cell_type": "code",
      "execution_count": null,
      "metadata": {
        "id": "hyrGWtPaUDdU"
      },
      "outputs": [],
      "source": [
        ""
      ]
    },
    {
      "cell_type": "markdown",
      "source": [
        "#Греческий алфавит\n",
        "Заглавная|Строчная|Название\n",
        "--|--|--\n",
        "Α|$\\alpha$|Альфа \n",
        "Β|$\\beta$|Бета\n",
        "Γ|$γ$|Гамма\n",
        "Δ|$δ$|Дельта\n",
        "Ε|$ϵ$|Эпсилон\n",
        "Ζ|$\\zeta$|Дзета\n",
        "Η|$\\eta$|Эта\n",
        "Θ|$\\theta$|Тэта\n",
        "Ι|$\\iota$|Йота\n",
        "Κ|$\\kappa$|Каппа\n",
        "Λ|$\\lambda$|Лямбда\n",
        "Μ|$\\mu$|Мю\n",
        "N|$\\nu$|Ню\n",
        "Ξ|$ξ$|Кси\n",
        "O|$o$|Омикрон\n",
        "Π|$π$|Пи\n",
        "Ρ|$ρ$|Ро\n",
        "Σ|$σ$|Сигма\n",
        "\n",
        "####Формула в отдельной строке:\n",
        "$${\\displaystyle f(x)={\\frac {1}{\\sigma {\\sqrt {2\\pi}}}}e^{-{\\frac {1}{2}}\\left({\\frac {x-\\mu }{\\sigma }}\\right)^{2}}}$$\n",
        "\n",
        "\n",
        "####Формула в тексте: ${\\displaystyle f(x)={\\frac {1}{\\sigma {\\sqrt {2\\pi}}}}e^{-{\\frac {1}{2}}\\left({\\frac {x-\\mu }{\\sigma }}\\right)^{2}}}$\n",
        "\n",
        "\n",
        "\n"
      ],
      "metadata": {
        "id": "owioDA1bUEpX"
      }
    }
  ]
}